{
 "cells": [
  {
   "cell_type": "code",
   "execution_count": 1,
   "id": "e423dd2d-86d8-4b38-8393-e2cbade14904",
   "metadata": {},
   "outputs": [],
   "source": [
    "#import libraries\n",
    "\n",
    "from bs4 import BeautifulSoup\n",
    "import requests\n",
    "import smtplib\n",
    "\n",
    "import time\n",
    "import datetime\n"
   ]
  },
  {
   "cell_type": "code",
   "execution_count": 2,
   "id": "28b0034c-2477-4b45-845e-28a13aac49af",
   "metadata": {},
   "outputs": [
    {
     "name": "stdout",
     "output_type": "stream",
     "text": [
      "        Amazon Essentials Women's Ultra Soft Mid-Rise Wide Leg Jean       \n",
      "28.50\n"
     ]
    }
   ],
   "source": [
    "URL = 'https://www.amazon.com/Amazon-Essentials-Womens-Ultra-Mid-Rise/dp/B0DX264LFH/'\n",
    "\n",
    "headers = {\"User-Agent\": \"Mozilla/5.0 (Macintosh; Intel Mac OS X 10_15_7) AppleWebKit/605.1.15 (KHTML, like Gecko) Version/17.6 Safari/605.1.15\", \n",
    "           \"Accept-Language\": \"en-US,en;q=0.9\"}\n",
    "\n",
    "\n",
    "page = requests.get(URL, headers=headers)\n",
    "soup = BeautifulSoup(page.content, \"html.parser\")\n",
    "\n",
    "title_tag = soup.find(id='productTitle').get_text()\n",
    "\n",
    "whole = soup.find(\"span\", {\"class\": \"a-price-whole\"})\n",
    "frac = soup.find(\"span\", {\"class\": \"a-price-fraction\"})\n",
    "price = whole.get_text(strip=True) + frac.get_text(strip=True)\n",
    "\n",
    "print(title_tag)\n",
    "print(price)\n",
    "\n"
   ]
  },
  {
   "cell_type": "code",
   "execution_count": 3,
   "id": "00105d6f-7ffc-4ffe-ae64-6c6db62efd93",
   "metadata": {},
   "outputs": [
    {
     "name": "stdout",
     "output_type": "stream",
     "text": [
      "Amazon Essentials Women's Ultra Soft Mid-Rise Wide Leg Jean\n",
      "28.50\n"
     ]
    }
   ],
   "source": [
    "#Making the \n",
    "title_tag = title_tag.strip()\n",
    "price = price.strip()\n",
    "\n",
    "print(title_tag)\n",
    "print(price)"
   ]
  },
  {
   "cell_type": "code",
   "execution_count": 4,
   "id": "cf9c9c69-c060-4972-9431-6a75fb9ab142",
   "metadata": {},
   "outputs": [],
   "source": [
    "import csv\n",
    "\n",
    "header = ['Title', 'Price', 'Date']\n",
    "today = datetime.date.today()\n",
    "data = [title_tag, float(price), today]\n",
    "\n",
    "\n",
    "with open('AmazonWebScraping.csv', 'w', newline = '', encoding = 'UTF8') as f:\n",
    "    writer = csv.writer(f)\n",
    "    writer.writerow(header)\n",
    "    writer.writerow(data)"
   ]
  },
  {
   "cell_type": "code",
   "execution_count": 5,
   "id": "9bc45a72-dc64-45dc-b242-3d117c7cda2d",
   "metadata": {},
   "outputs": [],
   "source": [
    "def check_price():\n",
    "    URL = 'https://www.amazon.com/Amazon-Essentials-Womens-Ultra-Mid-Rise/dp/B0DX264LFH/'\n",
    "\n",
    "    headers = {\"User-Agent\": \"Mozilla/5.0 (Macintosh; Intel Mac OS X 10_15_7) AppleWebKit/605.1.15 (KHTML, like Gecko) Version/17.6 Safari/605.1.15\", \n",
    "           \"Accept-Language\": \"en-US,en;q=0.9\"}\n",
    "\n",
    "\n",
    "    page = requests.get(URL, headers=headers)\n",
    "    soup = BeautifulSoup(page.content, \"html.parser\")\n",
    "\n",
    "    title_tag = soup.find(id='productTitle').get_text()\n",
    "\n",
    "    whole = soup.find(\"span\", {\"class\": \"a-price-whole\"})\n",
    "    frac = soup.find(\"span\", {\"class\": \"a-price-fraction\"})\n",
    "    price = whole.get_text(strip=True) + frac.get_text(strip=True)\n",
    "\n",
    "    today = datetime.date.today()\n",
    "\n",
    "\n",
    "    header = ['Title', 'Price', 'Date']\n",
    "    data = [title_tag, float(price), today]\n",
    "\n",
    "    with open('AmazonWebScraping.csv', 'a+', newline = '', encoding = 'UTF8') as f:\n",
    "        writer = csv.writer(f)\n",
    "        writer.writerow(data)\n",
    "    \n",
    "    "
   ]
  },
  {
   "cell_type": "code",
   "execution_count": 6,
   "id": "37a8db66-08dc-493f-999b-355a58a71c76",
   "metadata": {},
   "outputs": [
    {
     "ename": "KeyboardInterrupt",
     "evalue": "",
     "output_type": "error",
     "traceback": [
      "\u001b[0;31m---------------------------------------------------------------------------\u001b[0m",
      "\u001b[0;31mKeyboardInterrupt\u001b[0m                         Traceback (most recent call last)",
      "Cell \u001b[0;32mIn[6], line 4\u001b[0m\n\u001b[1;32m      2\u001b[0m \u001b[38;5;28;01mwhile\u001b[39;00m(\u001b[38;5;28;01mTrue\u001b[39;00m):\n\u001b[1;32m      3\u001b[0m     check_price()\n\u001b[0;32m----> 4\u001b[0m     time\u001b[38;5;241m.\u001b[39msleep(\u001b[38;5;241m86400\u001b[39m)\n",
      "\u001b[0;31mKeyboardInterrupt\u001b[0m: "
     ]
    }
   ],
   "source": [
    "#Updates every day\n",
    "while(True):\n",
    "    check_price()\n",
    "    time.sleep(86400)"
   ]
  },
  {
   "cell_type": "code",
   "execution_count": null,
   "id": "bc1c161e-02bf-45e8-888a-313b94c68f45",
   "metadata": {},
   "outputs": [],
   "source": []
  }
 ],
 "metadata": {
  "kernelspec": {
   "display_name": "Python [conda env:base] *",
   "language": "python",
   "name": "conda-base-py"
  },
  "language_info": {
   "codemirror_mode": {
    "name": "ipython",
    "version": 3
   },
   "file_extension": ".py",
   "mimetype": "text/x-python",
   "name": "python",
   "nbconvert_exporter": "python",
   "pygments_lexer": "ipython3",
   "version": "3.13.5"
  }
 },
 "nbformat": 4,
 "nbformat_minor": 5
}
